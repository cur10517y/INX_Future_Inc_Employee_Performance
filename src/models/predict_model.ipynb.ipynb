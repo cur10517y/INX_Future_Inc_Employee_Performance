{
 "cells": [
  {
   "cell_type": "markdown",
   "id": "42c9c3b7",
   "metadata": {},
   "source": [
    "# Predictive Modeling Overview\n",
    "Predictive modeling constitutes a mathematical methodology employed to anticipate forthcoming events or outcomes through the analysis of patterns within a provided set of input data. This essential process serves as a cornerstone of predictive analytics, a specialized form of data analytics that leverages both current and historical data to forecast future activities, behaviors, and trends.\n",
    "\n",
    "\n",
    "\n",
    "\n",
    "\n",
    "\n"
   ]
  },
  {
   "cell_type": "code",
   "execution_count": null,
   "id": "041297de",
   "metadata": {},
   "outputs": [],
   "source": []
  },
  {
   "cell_type": "code",
   "execution_count": 1,
   "id": "9c447ab8",
   "metadata": {},
   "outputs": [
    {
     "data": {
      "text/html": [
       "        <script type=\"text/javascript\">\n",
       "        window.PlotlyConfig = {MathJaxConfig: 'local'};\n",
       "        if (window.MathJax && window.MathJax.Hub && window.MathJax.Hub.Config) {window.MathJax.Hub.Config({SVG: {font: \"STIX-Web\"}});}\n",
       "        if (typeof require !== 'undefined') {\n",
       "        require.undef(\"plotly\");\n",
       "        requirejs.config({\n",
       "            paths: {\n",
       "                'plotly': ['https://cdn.plot.ly/plotly-2.12.1.min']\n",
       "            }\n",
       "        });\n",
       "        require(['plotly'], function(Plotly) {\n",
       "            window._Plotly = Plotly;\n",
       "        });\n",
       "        }\n",
       "        </script>\n",
       "        "
      ]
     },
     "metadata": {},
     "output_type": "display_data"
    }
   ],
   "source": [
    "import pandas as pd\n",
    "import numpy as np\n",
    "import random as rnd\n",
    "\n",
    "\n",
    "# visualization\n",
    "import seaborn as sns\n",
    "import matplotlib.pyplot as plt\n",
    "%matplotlib inline\n",
    "\n",
    "# Import statements required for Plotly \n",
    "import plotly.offline as py\n",
    "py.init_notebook_mode(connected=True)\n",
    "import plotly.graph_objs as go\n",
    "import plotly.tools as tls\n",
    "\n",
    "\n",
    "# for warnings \n",
    "import warnings\n",
    "warnings.filterwarnings('ignore')"
   ]
  },
  {
   "cell_type": "code",
   "execution_count": null,
   "id": "8cd600d6",
   "metadata": {},
   "outputs": [],
   "source": []
  },
  {
   "cell_type": "markdown",
   "id": "b5b99a73",
   "metadata": {},
   "source": [
    "#  Importing PREPROCESSED  Data"
   ]
  },
  {
   "cell_type": "code",
   "execution_count": 5,
   "id": "a90d3c79",
   "metadata": {},
   "outputs": [],
   "source": [
    "data=pd.read_excel('preprocessed_data.xlsx')"
   ]
  },
  {
   "cell_type": "code",
   "execution_count": 6,
   "id": "fe5b6c95",
   "metadata": {},
   "outputs": [],
   "source": [
    "data.to_excel('preprocessed_data.xlsx', index=False)  # This will save the DataFrame as an Excel file with the name 'preprocessed_data.xlsx' and without an index column."
   ]
  },
  {
   "cell_type": "code",
   "execution_count": 7,
   "id": "780ce1f5",
   "metadata": {},
   "outputs": [
    {
     "data": {
      "text/html": [
       "<div>\n",
       "<style scoped>\n",
       "    .dataframe tbody tr th:only-of-type {\n",
       "        vertical-align: middle;\n",
       "    }\n",
       "\n",
       "    .dataframe tbody tr th {\n",
       "        vertical-align: top;\n",
       "    }\n",
       "\n",
       "    .dataframe thead th {\n",
       "        text-align: right;\n",
       "    }\n",
       "</style>\n",
       "<table border=\"1\" class=\"dataframe\">\n",
       "  <thead>\n",
       "    <tr style=\"text-align: right;\">\n",
       "      <th></th>\n",
       "      <th>Age</th>\n",
       "      <th>Gender</th>\n",
       "      <th>EducationBackground</th>\n",
       "      <th>MaritalStatus</th>\n",
       "      <th>EmpDepartment</th>\n",
       "      <th>EmpJobRole</th>\n",
       "      <th>BusinessTravelFrequency</th>\n",
       "      <th>DistanceFromHome</th>\n",
       "      <th>EmpEducationLevel</th>\n",
       "      <th>EmpEnvironmentSatisfaction</th>\n",
       "      <th>...</th>\n",
       "      <th>EmpRelationshipSatisfaction</th>\n",
       "      <th>TotalWorkExperienceInYears</th>\n",
       "      <th>TrainingTimesLastYear</th>\n",
       "      <th>EmpWorkLifeBalance</th>\n",
       "      <th>ExperienceYearsAtThisCompany</th>\n",
       "      <th>ExperienceYearsInCurrentRole</th>\n",
       "      <th>YearsSinceLastPromotion</th>\n",
       "      <th>YearsWithCurrManager</th>\n",
       "      <th>Attrition</th>\n",
       "      <th>PerformanceRating</th>\n",
       "    </tr>\n",
       "  </thead>\n",
       "  <tbody>\n",
       "    <tr>\n",
       "      <th>0</th>\n",
       "      <td>32</td>\n",
       "      <td>1</td>\n",
       "      <td>2</td>\n",
       "      <td>2</td>\n",
       "      <td>5</td>\n",
       "      <td>13</td>\n",
       "      <td>2</td>\n",
       "      <td>10</td>\n",
       "      <td>3</td>\n",
       "      <td>4</td>\n",
       "      <td>...</td>\n",
       "      <td>4</td>\n",
       "      <td>10</td>\n",
       "      <td>2</td>\n",
       "      <td>2</td>\n",
       "      <td>10</td>\n",
       "      <td>7</td>\n",
       "      <td>0</td>\n",
       "      <td>8</td>\n",
       "      <td>0</td>\n",
       "      <td>3</td>\n",
       "    </tr>\n",
       "    <tr>\n",
       "      <th>1</th>\n",
       "      <td>47</td>\n",
       "      <td>1</td>\n",
       "      <td>2</td>\n",
       "      <td>2</td>\n",
       "      <td>5</td>\n",
       "      <td>13</td>\n",
       "      <td>2</td>\n",
       "      <td>14</td>\n",
       "      <td>4</td>\n",
       "      <td>4</td>\n",
       "      <td>...</td>\n",
       "      <td>4</td>\n",
       "      <td>20</td>\n",
       "      <td>2</td>\n",
       "      <td>3</td>\n",
       "      <td>7</td>\n",
       "      <td>7</td>\n",
       "      <td>1</td>\n",
       "      <td>7</td>\n",
       "      <td>0</td>\n",
       "      <td>3</td>\n",
       "    </tr>\n",
       "    <tr>\n",
       "      <th>2</th>\n",
       "      <td>40</td>\n",
       "      <td>1</td>\n",
       "      <td>1</td>\n",
       "      <td>1</td>\n",
       "      <td>5</td>\n",
       "      <td>13</td>\n",
       "      <td>1</td>\n",
       "      <td>5</td>\n",
       "      <td>4</td>\n",
       "      <td>4</td>\n",
       "      <td>...</td>\n",
       "      <td>3</td>\n",
       "      <td>20</td>\n",
       "      <td>2</td>\n",
       "      <td>3</td>\n",
       "      <td>18</td>\n",
       "      <td>13</td>\n",
       "      <td>1</td>\n",
       "      <td>12</td>\n",
       "      <td>0</td>\n",
       "      <td>4</td>\n",
       "    </tr>\n",
       "    <tr>\n",
       "      <th>3</th>\n",
       "      <td>41</td>\n",
       "      <td>1</td>\n",
       "      <td>0</td>\n",
       "      <td>0</td>\n",
       "      <td>3</td>\n",
       "      <td>8</td>\n",
       "      <td>2</td>\n",
       "      <td>10</td>\n",
       "      <td>4</td>\n",
       "      <td>2</td>\n",
       "      <td>...</td>\n",
       "      <td>2</td>\n",
       "      <td>23</td>\n",
       "      <td>2</td>\n",
       "      <td>2</td>\n",
       "      <td>21</td>\n",
       "      <td>6</td>\n",
       "      <td>12</td>\n",
       "      <td>6</td>\n",
       "      <td>0</td>\n",
       "      <td>3</td>\n",
       "    </tr>\n",
       "    <tr>\n",
       "      <th>4</th>\n",
       "      <td>60</td>\n",
       "      <td>1</td>\n",
       "      <td>2</td>\n",
       "      <td>2</td>\n",
       "      <td>5</td>\n",
       "      <td>13</td>\n",
       "      <td>2</td>\n",
       "      <td>16</td>\n",
       "      <td>4</td>\n",
       "      <td>1</td>\n",
       "      <td>...</td>\n",
       "      <td>4</td>\n",
       "      <td>10</td>\n",
       "      <td>1</td>\n",
       "      <td>3</td>\n",
       "      <td>2</td>\n",
       "      <td>2</td>\n",
       "      <td>2</td>\n",
       "      <td>2</td>\n",
       "      <td>0</td>\n",
       "      <td>3</td>\n",
       "    </tr>\n",
       "    <tr>\n",
       "      <th>...</th>\n",
       "      <td>...</td>\n",
       "      <td>...</td>\n",
       "      <td>...</td>\n",
       "      <td>...</td>\n",
       "      <td>...</td>\n",
       "      <td>...</td>\n",
       "      <td>...</td>\n",
       "      <td>...</td>\n",
       "      <td>...</td>\n",
       "      <td>...</td>\n",
       "      <td>...</td>\n",
       "      <td>...</td>\n",
       "      <td>...</td>\n",
       "      <td>...</td>\n",
       "      <td>...</td>\n",
       "      <td>...</td>\n",
       "      <td>...</td>\n",
       "      <td>...</td>\n",
       "      <td>...</td>\n",
       "      <td>...</td>\n",
       "      <td>...</td>\n",
       "    </tr>\n",
       "    <tr>\n",
       "      <th>1195</th>\n",
       "      <td>27</td>\n",
       "      <td>0</td>\n",
       "      <td>3</td>\n",
       "      <td>0</td>\n",
       "      <td>5</td>\n",
       "      <td>13</td>\n",
       "      <td>1</td>\n",
       "      <td>3</td>\n",
       "      <td>1</td>\n",
       "      <td>4</td>\n",
       "      <td>...</td>\n",
       "      <td>2</td>\n",
       "      <td>6</td>\n",
       "      <td>3</td>\n",
       "      <td>3</td>\n",
       "      <td>6</td>\n",
       "      <td>5</td>\n",
       "      <td>0</td>\n",
       "      <td>4</td>\n",
       "      <td>0</td>\n",
       "      <td>4</td>\n",
       "    </tr>\n",
       "    <tr>\n",
       "      <th>1196</th>\n",
       "      <td>37</td>\n",
       "      <td>1</td>\n",
       "      <td>1</td>\n",
       "      <td>2</td>\n",
       "      <td>1</td>\n",
       "      <td>15</td>\n",
       "      <td>2</td>\n",
       "      <td>10</td>\n",
       "      <td>2</td>\n",
       "      <td>4</td>\n",
       "      <td>...</td>\n",
       "      <td>1</td>\n",
       "      <td>4</td>\n",
       "      <td>2</td>\n",
       "      <td>3</td>\n",
       "      <td>1</td>\n",
       "      <td>0</td>\n",
       "      <td>0</td>\n",
       "      <td>0</td>\n",
       "      <td>0</td>\n",
       "      <td>3</td>\n",
       "    </tr>\n",
       "    <tr>\n",
       "      <th>1197</th>\n",
       "      <td>50</td>\n",
       "      <td>1</td>\n",
       "      <td>3</td>\n",
       "      <td>1</td>\n",
       "      <td>1</td>\n",
       "      <td>15</td>\n",
       "      <td>2</td>\n",
       "      <td>28</td>\n",
       "      <td>1</td>\n",
       "      <td>4</td>\n",
       "      <td>...</td>\n",
       "      <td>3</td>\n",
       "      <td>20</td>\n",
       "      <td>3</td>\n",
       "      <td>3</td>\n",
       "      <td>20</td>\n",
       "      <td>8</td>\n",
       "      <td>3</td>\n",
       "      <td>8</td>\n",
       "      <td>0</td>\n",
       "      <td>3</td>\n",
       "    </tr>\n",
       "    <tr>\n",
       "      <th>1198</th>\n",
       "      <td>34</td>\n",
       "      <td>0</td>\n",
       "      <td>3</td>\n",
       "      <td>2</td>\n",
       "      <td>0</td>\n",
       "      <td>1</td>\n",
       "      <td>2</td>\n",
       "      <td>9</td>\n",
       "      <td>3</td>\n",
       "      <td>4</td>\n",
       "      <td>...</td>\n",
       "      <td>2</td>\n",
       "      <td>9</td>\n",
       "      <td>3</td>\n",
       "      <td>4</td>\n",
       "      <td>8</td>\n",
       "      <td>7</td>\n",
       "      <td>7</td>\n",
       "      <td>7</td>\n",
       "      <td>0</td>\n",
       "      <td>3</td>\n",
       "    </tr>\n",
       "    <tr>\n",
       "      <th>1199</th>\n",
       "      <td>24</td>\n",
       "      <td>0</td>\n",
       "      <td>1</td>\n",
       "      <td>2</td>\n",
       "      <td>5</td>\n",
       "      <td>13</td>\n",
       "      <td>2</td>\n",
       "      <td>3</td>\n",
       "      <td>2</td>\n",
       "      <td>1</td>\n",
       "      <td>...</td>\n",
       "      <td>1</td>\n",
       "      <td>4</td>\n",
       "      <td>3</td>\n",
       "      <td>3</td>\n",
       "      <td>2</td>\n",
       "      <td>2</td>\n",
       "      <td>2</td>\n",
       "      <td>0</td>\n",
       "      <td>1</td>\n",
       "      <td>2</td>\n",
       "    </tr>\n",
       "  </tbody>\n",
       "</table>\n",
       "<p>1200 rows × 27 columns</p>\n",
       "</div>"
      ],
      "text/plain": [
       "      Age  Gender  EducationBackground  MaritalStatus  EmpDepartment  \\\n",
       "0      32       1                    2              2              5   \n",
       "1      47       1                    2              2              5   \n",
       "2      40       1                    1              1              5   \n",
       "3      41       1                    0              0              3   \n",
       "4      60       1                    2              2              5   \n",
       "...   ...     ...                  ...            ...            ...   \n",
       "1195   27       0                    3              0              5   \n",
       "1196   37       1                    1              2              1   \n",
       "1197   50       1                    3              1              1   \n",
       "1198   34       0                    3              2              0   \n",
       "1199   24       0                    1              2              5   \n",
       "\n",
       "      EmpJobRole  BusinessTravelFrequency  DistanceFromHome  \\\n",
       "0             13                        2                10   \n",
       "1             13                        2                14   \n",
       "2             13                        1                 5   \n",
       "3              8                        2                10   \n",
       "4             13                        2                16   \n",
       "...          ...                      ...               ...   \n",
       "1195          13                        1                 3   \n",
       "1196          15                        2                10   \n",
       "1197          15                        2                28   \n",
       "1198           1                        2                 9   \n",
       "1199          13                        2                 3   \n",
       "\n",
       "      EmpEducationLevel  EmpEnvironmentSatisfaction  ...  \\\n",
       "0                     3                           4  ...   \n",
       "1                     4                           4  ...   \n",
       "2                     4                           4  ...   \n",
       "3                     4                           2  ...   \n",
       "4                     4                           1  ...   \n",
       "...                 ...                         ...  ...   \n",
       "1195                  1                           4  ...   \n",
       "1196                  2                           4  ...   \n",
       "1197                  1                           4  ...   \n",
       "1198                  3                           4  ...   \n",
       "1199                  2                           1  ...   \n",
       "\n",
       "      EmpRelationshipSatisfaction  TotalWorkExperienceInYears  \\\n",
       "0                               4                          10   \n",
       "1                               4                          20   \n",
       "2                               3                          20   \n",
       "3                               2                          23   \n",
       "4                               4                          10   \n",
       "...                           ...                         ...   \n",
       "1195                            2                           6   \n",
       "1196                            1                           4   \n",
       "1197                            3                          20   \n",
       "1198                            2                           9   \n",
       "1199                            1                           4   \n",
       "\n",
       "      TrainingTimesLastYear  EmpWorkLifeBalance  ExperienceYearsAtThisCompany  \\\n",
       "0                         2                   2                            10   \n",
       "1                         2                   3                             7   \n",
       "2                         2                   3                            18   \n",
       "3                         2                   2                            21   \n",
       "4                         1                   3                             2   \n",
       "...                     ...                 ...                           ...   \n",
       "1195                      3                   3                             6   \n",
       "1196                      2                   3                             1   \n",
       "1197                      3                   3                            20   \n",
       "1198                      3                   4                             8   \n",
       "1199                      3                   3                             2   \n",
       "\n",
       "      ExperienceYearsInCurrentRole  YearsSinceLastPromotion  \\\n",
       "0                                7                        0   \n",
       "1                                7                        1   \n",
       "2                               13                        1   \n",
       "3                                6                       12   \n",
       "4                                2                        2   \n",
       "...                            ...                      ...   \n",
       "1195                             5                        0   \n",
       "1196                             0                        0   \n",
       "1197                             8                        3   \n",
       "1198                             7                        7   \n",
       "1199                             2                        2   \n",
       "\n",
       "      YearsWithCurrManager  Attrition  PerformanceRating  \n",
       "0                        8          0                  3  \n",
       "1                        7          0                  3  \n",
       "2                       12          0                  4  \n",
       "3                        6          0                  3  \n",
       "4                        2          0                  3  \n",
       "...                    ...        ...                ...  \n",
       "1195                     4          0                  4  \n",
       "1196                     0          0                  3  \n",
       "1197                     8          0                  3  \n",
       "1198                     7          0                  3  \n",
       "1199                     0          1                  2  \n",
       "\n",
       "[1200 rows x 27 columns]"
      ]
     },
     "execution_count": 7,
     "metadata": {},
     "output_type": "execute_result"
    }
   ],
   "source": [
    "data"
   ]
  },
  {
   "cell_type": "raw",
   "id": "450756e2",
   "metadata": {},
   "source": []
  },
  {
   "cell_type": "markdown",
   "id": "89b23879",
   "metadata": {},
   "source": [
    "# 6. Model Creation"
   ]
  },
  {
   "cell_type": "code",
   "execution_count": 8,
   "id": "e89f41b9",
   "metadata": {},
   "outputs": [],
   "source": [
    "#  creation of independent variable and dependent variable\n",
    "x=data.drop('PerformanceRating',axis=1)\n",
    "y=data['PerformanceRating']"
   ]
  },
  {
   "cell_type": "code",
   "execution_count": 9,
   "id": "f8e3f914",
   "metadata": {},
   "outputs": [],
   "source": [
    "# training and testing data\n",
    "from sklearn.model_selection import train_test_split\n",
    "x_train,x_test,y_train,y_test=train_test_split(x,y,test_size=0.2,random_state=2)"
   ]
  },
  {
   "cell_type": "code",
   "execution_count": 10,
   "id": "7b8889be",
   "metadata": {},
   "outputs": [
    {
     "name": "stdout",
     "output_type": "stream",
     "text": [
      "(960, 26)\n",
      "(240, 26)\n",
      "(960,)\n",
      "(240,)\n"
     ]
    }
   ],
   "source": [
    "print(x_train.shape)\n",
    "print(x_test.shape)\n",
    "print(y_train.shape)\n",
    "print(y_test.shape)"
   ]
  },
  {
   "cell_type": "code",
   "execution_count": null,
   "id": "dbd72593",
   "metadata": {},
   "outputs": [],
   "source": []
  },
  {
   "cell_type": "markdown",
   "id": "6df2688e",
   "metadata": {},
   "source": [
    "### Standard Scaling Overview:\n",
    "Standard scaling, often referred to as z-score scaling, is a method employed to standardize data, ensuring it possesses a mean of 0 and a standard deviation of 1. This scaling technique plays a crucial role in normalizing and aligning data to a common scale, facilitating more accurate comparisons and analyses across different features or variables."
   ]
  },
  {
   "cell_type": "code",
   "execution_count": 11,
   "id": "9f414bb3",
   "metadata": {},
   "outputs": [
    {
     "name": "stdout",
     "output_type": "stream",
     "text": [
      "[[-0.54145787  0.80942721 -0.17945861 ...  1.10025139 -0.41733475\n",
      "   0.09961771]\n",
      " [ 1.10988772  0.80942721 -0.17945861 ...  0.8177735  -0.41733475\n",
      "   0.09961771]\n",
      " [ 0.33925978  0.80942721 -0.94311225 ...  2.23016296 -0.41733475\n",
      "   2.02770238]\n",
      " ...\n",
      " [ 1.44015684  0.80942721  0.58419504 ...  1.10025139 -0.41733475\n",
      "   0.09961771]\n",
      " [-0.32127846 -1.23544154  0.58419504 ...  0.8177735  -0.41733475\n",
      "   0.09961771]\n",
      " [-1.42217552 -1.23544154 -0.94311225 ... -1.15957175  2.39615797\n",
      "  -1.82846697]]\n"
     ]
    }
   ],
   "source": [
    "from sklearn.preprocessing import StandardScaler\n",
    "\n",
    "# Initialize the StandardScaler\n",
    "scaler = StandardScaler()\n",
    "\n",
    "# Fit the scaler to your data and transform it\n",
    "scaled_data = scaler.fit_transform(data)\n",
    "\n",
    "# The result will be a NumPy array with scaled values\n",
    "print(scaled_data)"
   ]
  },
  {
   "cell_type": "code",
   "execution_count": 12,
   "id": "7dbb4d7f",
   "metadata": {},
   "outputs": [],
   "source": [
    "scaler=StandardScaler()\n",
    "x_train_scaled=scaler.fit_transform(x_train)\n",
    "x_test_scaled=scaler.transform(x_test)"
   ]
  },
  {
   "cell_type": "code",
   "execution_count": null,
   "id": "bf386f13",
   "metadata": {},
   "outputs": [],
   "source": []
  },
  {
   "cell_type": "markdown",
   "id": "052ae723",
   "metadata": {},
   "source": [
    "### SMOTE :\n",
    "To counter the observed skewness in the target variable, we will employ the Synthetic Minority Over-sampling Technique (SMOTE) through the imbalanced-learn (imblearn) Python package. SMOTE is a resampling method that generates synthetic samples for the minority class, effectively mitigating the imbalance and fostering a more balanced representation within the target variable. This approach ensures that the machine learning model is not biased by the disproportionate distribution of target values, enhancing its ability to generalize and make accurate predictions.\n",
    "\n",
    "\n",
    "\n",
    "\n",
    "\n",
    "\n"
   ]
  },
  {
   "cell_type": "code",
   "execution_count": 13,
   "id": "92057e9d",
   "metadata": {},
   "outputs": [],
   "source": [
    "from imblearn.over_sampling import SMOTE\n",
    "smote = SMOTE()"
   ]
  },
  {
   "cell_type": "code",
   "execution_count": 14,
   "id": "c6ecefcc",
   "metadata": {},
   "outputs": [],
   "source": [
    "# Smote is always applied on train data(x_train and y_train)\n",
    "x_smote, y_smote = smote.fit_resample(x_train,y_train)"
   ]
  },
  {
   "cell_type": "code",
   "execution_count": 15,
   "id": "8388c47f",
   "metadata": {},
   "outputs": [
    {
     "name": "stdout",
     "output_type": "stream",
     "text": [
      "Actual Classes Counter({3: 705, 2: 154, 4: 101})\n",
      "SMOTE Classes Counter({3: 705, 2: 705, 4: 705})\n"
     ]
    }
   ],
   "source": [
    "from collections import Counter\n",
    "print(\"Actual Classes\",Counter(y_train))\n",
    "print(\"SMOTE Classes\",Counter(y_smote))"
   ]
  },
  {
   "cell_type": "code",
   "execution_count": 16,
   "id": "36b413e2",
   "metadata": {},
   "outputs": [
    {
     "data": {
      "text/plain": [
       "array([3, 4, 2], dtype=int64)"
      ]
     },
     "execution_count": 16,
     "metadata": {},
     "output_type": "execute_result"
    }
   ],
   "source": [
    "data['PerformanceRating'].unique()"
   ]
  },
  {
   "cell_type": "code",
   "execution_count": 17,
   "id": "a8abb9bf",
   "metadata": {},
   "outputs": [
    {
     "data": {
      "text/plain": [
       "3    705\n",
       "2    705\n",
       "4    705\n",
       "Name: PerformanceRating, dtype: int64"
      ]
     },
     "execution_count": 17,
     "metadata": {},
     "output_type": "execute_result"
    }
   ],
   "source": [
    "y_smote.value_counts()"
   ]
  },
  {
   "cell_type": "code",
   "execution_count": null,
   "id": "adc60d2a",
   "metadata": {},
   "outputs": [],
   "source": []
  },
  {
   "cell_type": "code",
   "execution_count": 18,
   "id": "f678a55c",
   "metadata": {},
   "outputs": [],
   "source": [
    "## model creation"
   ]
  },
  {
   "cell_type": "markdown",
   "id": "3d90dc9f",
   "metadata": {},
   "source": [
    "### AdaBoost Classifier\n",
    "AdaBoost, short for Adaptive Boosting, is an ensemble machine learning algorithm that can be used in a wide variety of classification and regression tasks. It is a supervised learning algorithm that is used to classify data by combining multiple weak or base learners."
   ]
  },
  {
   "cell_type": "code",
   "execution_count": 19,
   "id": "0a4e7798",
   "metadata": {},
   "outputs": [],
   "source": [
    "from sklearn.metrics import accuracy_score\n",
    "from sklearn.metrics import classification_report"
   ]
  },
  {
   "cell_type": "code",
   "execution_count": 20,
   "id": "c834ad70",
   "metadata": {},
   "outputs": [
    {
     "data": {
      "text/plain": [
       "0.6791666666666667"
      ]
     },
     "execution_count": 20,
     "metadata": {},
     "output_type": "execute_result"
    }
   ],
   "source": [
    "\n",
    "# Standardize the feature values (optional but recommended for KNN)\n",
    "scaler = StandardScaler()\n",
    "x_train = scaler.fit_transform(x_train)\n",
    "x_test = scaler.transform(x_test)\n",
    "\n",
    "from sklearn.ensemble import AdaBoostClassifier\n",
    "\n",
    "#instantiating the object\n",
    "ada_boost= AdaBoostClassifier()\n",
    "#fitting the model\n",
    "ada_boost.fit(x_train, y_train)\n",
    "\n",
    "#predicting\n",
    "y_test_pred_ada_boost= ada_boost.predict(x_test_scaled)\n",
    "y_train_p_ada_boost= ada_boost.predict(x_train_scaled)\n",
    "\n",
    "accuracy_adaboost_test = accuracy_score(y_test, y_test_pred_ada_boost)\n",
    "accuracy_adaboost_test"
   ]
  },
  {
   "cell_type": "code",
   "execution_count": 21,
   "id": "5ac73ef6",
   "metadata": {},
   "outputs": [
    {
     "data": {
      "text/plain": [
       "0.7489583333333333"
      ]
     },
     "execution_count": 21,
     "metadata": {},
     "output_type": "execute_result"
    }
   ],
   "source": [
    "accuracy_adaboost_train = accuracy_score(y_train, y_train_p_ada_boost)\n",
    "accuracy_adaboost_train"
   ]
  },
  {
   "cell_type": "code",
   "execution_count": 22,
   "id": "90d01ea4",
   "metadata": {},
   "outputs": [
    {
     "name": "stdout",
     "output_type": "stream",
     "text": [
      "              precision    recall  f1-score   support\n",
      "\n",
      "           2       0.89      0.82      0.86        40\n",
      "           3       0.83      0.69      0.75       169\n",
      "           4       0.22      0.45      0.29        31\n",
      "\n",
      "    accuracy                           0.68       240\n",
      "   macro avg       0.65      0.65      0.64       240\n",
      "weighted avg       0.76      0.68      0.71       240\n",
      "\n"
     ]
    }
   ],
   "source": [
    "print(classification_report(y_test,y_test_pred_ada_boost))"
   ]
  },
  {
   "cell_type": "code",
   "execution_count": 23,
   "id": "7fa1b01c",
   "metadata": {},
   "outputs": [
    {
     "name": "stdout",
     "output_type": "stream",
     "text": [
      "              precision    recall  f1-score   support\n",
      "\n",
      "           2       0.85      0.86      0.85       154\n",
      "           3       0.91      0.73      0.81       705\n",
      "           4       0.30      0.71      0.42       101\n",
      "\n",
      "    accuracy                           0.75       960\n",
      "   macro avg       0.69      0.77      0.70       960\n",
      "weighted avg       0.84      0.75      0.78       960\n",
      "\n"
     ]
    }
   ],
   "source": [
    "print(classification_report(y_train, y_train_p_ada_boost))\n"
   ]
  },
  {
   "cell_type": "code",
   "execution_count": null,
   "id": "2671ee92",
   "metadata": {},
   "outputs": [],
   "source": []
  },
  {
   "cell_type": "markdown",
   "id": "23d42c43",
   "metadata": {},
   "source": [
    "### Random Forest method\n",
    "In this approach, the decision tree, considered a \"weak learner\" when used in isolation due to its limited predictive performance, becomes a key building block. However, when you gather an ensemble of decision trees and utilize their combined predictive capabilities, you can achieve strong predictive performance—a \"strong learner.\"\n"
   ]
  },
  {
   "cell_type": "code",
   "execution_count": 24,
   "id": "1a046d53",
   "metadata": {},
   "outputs": [
    {
     "data": {
      "text/plain": [
       "0.9208333333333333"
      ]
     },
     "execution_count": 24,
     "metadata": {},
     "output_type": "execute_result"
    }
   ],
   "source": [
    "from sklearn.ensemble import RandomForestClassifier\n",
    "from sklearn.model_selection import train_test_split\n",
    "from sklearn.metrics import accuracy_score\n",
    "from sklearn.metrics import classification_report\n",
    "\n",
    "\n",
    "# Define your Random Forest parameters\n",
    "n_estimators = 100  # Number of trees in the forest\n",
    "max_depth = None   # Maximum depth of the tree (None for no limit)\n",
    "random_state = 42  # Random state for reproducibility\n",
    "\n",
    "# Initialize the Random Forest Classifier with your parameters\n",
    "rf_classifier = RandomForestClassifier(n_estimators=n_estimators, max_depth=max_depth, random_state=random_state)\n",
    "\n",
    "# Fit the model to the training data\n",
    "rf_classifier.fit(x_train, y_train)\n",
    "\n",
    "# Make predictions on the test data\n",
    "y_pred = rf_classifier.predict(x_test)\n",
    "y_p = rf_classifier.predict(x_train)\n",
    "\n",
    "# Evaluate the model's accuracy\n",
    "accuracy_rf_test = accuracy_score(y_test, y_pred)\n",
    "accuracy_rf_test"
   ]
  },
  {
   "cell_type": "code",
   "execution_count": 25,
   "id": "945454f6",
   "metadata": {},
   "outputs": [
    {
     "data": {
      "text/plain": [
       "1.0"
      ]
     },
     "execution_count": 25,
     "metadata": {},
     "output_type": "execute_result"
    }
   ],
   "source": [
    "accuracy_rf_train = accuracy_score(y_train, y_p)\n",
    "accuracy_rf_train"
   ]
  },
  {
   "cell_type": "code",
   "execution_count": 26,
   "id": "23300950",
   "metadata": {},
   "outputs": [
    {
     "name": "stdout",
     "output_type": "stream",
     "text": [
      "              precision    recall  f1-score   support\n",
      "\n",
      "           2       0.95      0.90      0.92        40\n",
      "           3       0.92      0.98      0.95       169\n",
      "           4       0.91      0.65      0.75        31\n",
      "\n",
      "    accuracy                           0.92       240\n",
      "   macro avg       0.92      0.84      0.87       240\n",
      "weighted avg       0.92      0.92      0.92       240\n",
      "\n"
     ]
    }
   ],
   "source": [
    "print(classification_report(y_test,y_pred))\n"
   ]
  },
  {
   "cell_type": "code",
   "execution_count": 27,
   "id": "36418360",
   "metadata": {},
   "outputs": [
    {
     "name": "stdout",
     "output_type": "stream",
     "text": [
      "              precision    recall  f1-score   support\n",
      "\n",
      "           2       1.00      1.00      1.00       154\n",
      "           3       1.00      1.00      1.00       705\n",
      "           4       1.00      1.00      1.00       101\n",
      "\n",
      "    accuracy                           1.00       960\n",
      "   macro avg       1.00      1.00      1.00       960\n",
      "weighted avg       1.00      1.00      1.00       960\n",
      "\n"
     ]
    }
   ],
   "source": [
    "print(classification_report(y_train, y_p))\n"
   ]
  },
  {
   "cell_type": "code",
   "execution_count": null,
   "id": "f84e99c8",
   "metadata": {},
   "outputs": [],
   "source": []
  },
  {
   "cell_type": "markdown",
   "id": "54fb9ed1",
   "metadata": {},
   "source": [
    "## LogisticRegression\n",
    "Logistic regression is a data analysis technique that uses mathematics to find the relationships between two data factors. It then uses this relationship to predict the value of one of those factors based on the other."
   ]
  },
  {
   "cell_type": "code",
   "execution_count": 28,
   "id": "92d25d5f",
   "metadata": {},
   "outputs": [
    {
     "data": {
      "text/plain": [
       "0.8041666666666667"
      ]
     },
     "execution_count": 28,
     "metadata": {},
     "output_type": "execute_result"
    }
   ],
   "source": [
    "# Standardize the feature values (optional but recommended for KNN)\n",
    "scaler = StandardScaler()\n",
    "x_train = scaler.fit_transform(x_train)\n",
    "x_test = scaler.transform(x_test)\n",
    "\n",
    "from sklearn.linear_model import LogisticRegression\n",
    "from sklearn.metrics import f1_score\n",
    "\n",
    "\n",
    "#instantiating the object\n",
    "lr= LogisticRegression(multi_class='ovr')\n",
    "#training the model\n",
    "lr.fit(x_train, y_train)\n",
    "\n",
    "#predicting\n",
    "y_test_pred_lr= lr.predict(x_test_scaled)\n",
    "y_train_p_lr= lr.predict(x_train_scaled)\n",
    "\n",
    "\n",
    "\n",
    "\n",
    "lr_f1_test = f1_score(y_test, y_test_pred_lr, average='macro')\n",
    "lr_f1_train = f1_score(y_train, y_train_p_lr, average='macro')\n",
    "\n",
    "accuracy_lr_test = accuracy_score(y_test, y_test_pred_lr)\n",
    "accuracy_lr_test"
   ]
  },
  {
   "cell_type": "code",
   "execution_count": 29,
   "id": "9c4e96ba",
   "metadata": {},
   "outputs": [
    {
     "data": {
      "text/plain": [
       "0.83125"
      ]
     },
     "execution_count": 29,
     "metadata": {},
     "output_type": "execute_result"
    }
   ],
   "source": [
    "accuracy_lr_train=accuracy_score(y_train, y_train_p_lr)\n",
    "accuracy_lr_train"
   ]
  },
  {
   "cell_type": "code",
   "execution_count": 30,
   "id": "2cc0340e",
   "metadata": {},
   "outputs": [
    {
     "name": "stdout",
     "output_type": "stream",
     "text": [
      "              precision    recall  f1-score   support\n",
      "\n",
      "           2       0.69      0.55      0.61        40\n",
      "           3       0.82      0.95      0.88       169\n",
      "           4       0.79      0.35      0.49        31\n",
      "\n",
      "    accuracy                           0.80       240\n",
      "   macro avg       0.77      0.62      0.66       240\n",
      "weighted avg       0.80      0.80      0.79       240\n",
      "\n"
     ]
    }
   ],
   "source": [
    "print (classification_report(y_test,y_test_pred_lr))"
   ]
  },
  {
   "cell_type": "code",
   "execution_count": 31,
   "id": "f3d1697d",
   "metadata": {},
   "outputs": [
    {
     "name": "stdout",
     "output_type": "stream",
     "text": [
      "              precision    recall  f1-score   support\n",
      "\n",
      "           2       0.68      0.46      0.55       154\n",
      "           3       0.85      0.95      0.90       705\n",
      "           4       0.87      0.57      0.69       101\n",
      "\n",
      "    accuracy                           0.83       960\n",
      "   macro avg       0.80      0.66      0.71       960\n",
      "weighted avg       0.82      0.83      0.82       960\n",
      "\n"
     ]
    }
   ],
   "source": [
    "print (classification_report(y_train, y_train_p_lr))"
   ]
  },
  {
   "cell_type": "code",
   "execution_count": null,
   "id": "4e09160e",
   "metadata": {},
   "outputs": [],
   "source": []
  },
  {
   "cell_type": "markdown",
   "id": "7db5aaed",
   "metadata": {},
   "source": [
    "## Gradient Boosting Classifier\n",
    "Gradient Boosting is a functional gradient algorithm that repeatedly selects a function that leads in the direction of a weak hypothesis or negative gradient so that it can minimize a loss function. Gradient boosting classifier combines several weak learning models to produce a powerful predicting model."
   ]
  },
  {
   "cell_type": "code",
   "execution_count": 32,
   "id": "0e5912aa",
   "metadata": {},
   "outputs": [
    {
     "data": {
      "text/plain": [
       "0.9291666666666667"
      ]
     },
     "execution_count": 32,
     "metadata": {},
     "output_type": "execute_result"
    }
   ],
   "source": [
    "from sklearn.metrics import classification_report\n",
    "from sklearn.ensemble import GradientBoostingClassifier\n",
    "from sklearn.model_selection import train_test_split\n",
    "\n",
    "\n",
    "\n",
    "# Create and train a Gradient Boosting classifier\n",
    "gb_classifier = GradientBoostingClassifier()\n",
    "gb_classifier.fit(x_train, y_train)\n",
    "\n",
    "# Make predictions on the test data\n",
    "gb_predictions_test = gb_classifier.predict(x_test)\n",
    "gb_predictions_train = gb_classifier.predict(x_train)\n",
    "\n",
    "accuracy_gb_predictions_test = accuracy_score(y_test, gb_predictions_test)\n",
    "\n",
    "accuracy_gb_predictions_test"
   ]
  },
  {
   "cell_type": "code",
   "execution_count": 33,
   "id": "3f0a0928",
   "metadata": {},
   "outputs": [
    {
     "data": {
      "text/plain": [
       "0.99375"
      ]
     },
     "execution_count": 33,
     "metadata": {},
     "output_type": "execute_result"
    }
   ],
   "source": [
    "accuracy_gb_predictions_train = accuracy_score(y_train, gb_predictions_train)\n",
    "\n",
    "accuracy_gb_predictions_train"
   ]
  },
  {
   "cell_type": "code",
   "execution_count": 34,
   "id": "0c8718ec",
   "metadata": {},
   "outputs": [
    {
     "name": "stdout",
     "output_type": "stream",
     "text": [
      "              precision    recall  f1-score   support\n",
      "\n",
      "           2       0.88      0.95      0.92        40\n",
      "           3       0.94      0.96      0.95       169\n",
      "           4       0.92      0.71      0.80        31\n",
      "\n",
      "    accuracy                           0.93       240\n",
      "   macro avg       0.91      0.87      0.89       240\n",
      "weighted avg       0.93      0.93      0.93       240\n",
      "\n"
     ]
    }
   ],
   "source": [
    "# Generate a classification report\n",
    "print(classification_report(y_test, gb_predictions_test))"
   ]
  },
  {
   "cell_type": "code",
   "execution_count": 35,
   "id": "6b181cda",
   "metadata": {},
   "outputs": [
    {
     "name": "stdout",
     "output_type": "stream",
     "text": [
      "              precision    recall  f1-score   support\n",
      "\n",
      "           2       0.97      0.99      0.98       154\n",
      "           3       1.00      0.99      1.00       705\n",
      "           4       1.00      0.99      1.00       101\n",
      "\n",
      "    accuracy                           0.99       960\n",
      "   macro avg       0.99      0.99      0.99       960\n",
      "weighted avg       0.99      0.99      0.99       960\n",
      "\n"
     ]
    }
   ],
   "source": [
    "# Generate a classification report\n",
    "print(classification_report(y_train, gb_predictions_train))"
   ]
  },
  {
   "cell_type": "code",
   "execution_count": null,
   "id": "db656d29",
   "metadata": {},
   "outputs": [],
   "source": []
  },
  {
   "cell_type": "markdown",
   "id": "ced190dd",
   "metadata": {},
   "source": [
    "## K-Nearest Neighbors\n",
    "K Nearest Neighbour is a simple algorithm that stores all the available cases and classifies the new data or case based on a similarity measure. It is mostly used to classifies a data point based on how its neighbours are classified"
   ]
  },
  {
   "cell_type": "code",
   "execution_count": 36,
   "id": "919d7b05",
   "metadata": {},
   "outputs": [
    {
     "data": {
      "text/plain": [
       "0.7416666666666667"
      ]
     },
     "execution_count": 36,
     "metadata": {},
     "output_type": "execute_result"
    }
   ],
   "source": [
    "# Standardize the feature values (optional but recommended for KNN)\n",
    "scaler = StandardScaler()\n",
    "x_train = scaler.fit_transform(x_train)\n",
    "x_test = scaler.transform(x_test)\n",
    "\n",
    "from sklearn.neighbors import KNeighborsClassifier\n",
    "\n",
    "# Initialize the KNN classifier with the number of neighbors (k) you want to use\n",
    "knn = KNeighborsClassifier(n_neighbors=3)  # Replace 3 with your desired k value\n",
    "\n",
    "# Fit the KNN model to the training data\n",
    "knn.fit(x_train, y_train)\n",
    "\n",
    "# Make predictions on the test data\n",
    "knn_predict = knn.predict(x_test)\n",
    "knn_p = knn.predict(x_train)\n",
    "# Evaluate the model's accuracy\n",
    "accuracy_knn_test = accuracy_score(y_test, knn_predict)\n",
    "accuracy_knn_test"
   ]
  },
  {
   "cell_type": "code",
   "execution_count": 37,
   "id": "9bc2b3a6",
   "metadata": {},
   "outputs": [
    {
     "data": {
      "text/plain": [
       "0.846875"
      ]
     },
     "execution_count": 37,
     "metadata": {},
     "output_type": "execute_result"
    }
   ],
   "source": [
    "accuracy_knn_train = accuracy_score(y_train, knn_p)\n",
    "accuracy_knn_train"
   ]
  },
  {
   "cell_type": "code",
   "execution_count": 38,
   "id": "5a96a296",
   "metadata": {},
   "outputs": [
    {
     "name": "stdout",
     "output_type": "stream",
     "text": [
      "              precision    recall  f1-score   support\n",
      "\n",
      "           2       0.56      0.45      0.50        40\n",
      "           3       0.78      0.93      0.85       169\n",
      "           4       0.50      0.10      0.16        31\n",
      "\n",
      "    accuracy                           0.74       240\n",
      "   macro avg       0.61      0.49      0.50       240\n",
      "weighted avg       0.71      0.74      0.70       240\n",
      "\n"
     ]
    }
   ],
   "source": [
    "# Generate a classification report\n",
    "report = (classification_report(y_test, knn_predict))\n",
    "\n",
    "# Print the classification report\n",
    "print(report)\n"
   ]
  },
  {
   "cell_type": "code",
   "execution_count": 39,
   "id": "cc8381c0",
   "metadata": {},
   "outputs": [
    {
     "name": "stdout",
     "output_type": "stream",
     "text": [
      "              precision    recall  f1-score   support\n",
      "\n",
      "           2       0.70      0.58      0.64       154\n",
      "           3       0.87      0.94      0.90       705\n",
      "           4       0.89      0.56      0.69       101\n",
      "\n",
      "    accuracy                           0.85       960\n",
      "   macro avg       0.82      0.70      0.74       960\n",
      "weighted avg       0.84      0.85      0.84       960\n",
      "\n"
     ]
    }
   ],
   "source": [
    "print(classification_report(y_train, knn_p))"
   ]
  },
  {
   "cell_type": "code",
   "execution_count": null,
   "id": "b4a32106",
   "metadata": {},
   "outputs": [],
   "source": []
  },
  {
   "cell_type": "markdown",
   "id": "18faf615",
   "metadata": {},
   "source": [
    "## Support Vector Classifier (SVC)\n",
    "Support Vector Classifier (SVC) is a machine learning algorithm that can be used for various classification tasks, including employee performance analysis. It can help in classifying employees into different performance categories or predicting performance ratings based on certain features or attributes"
   ]
  },
  {
   "cell_type": "code",
   "execution_count": 40,
   "id": "7aad3f09",
   "metadata": {},
   "outputs": [
    {
     "data": {
      "text/plain": [
       "0.8458333333333333"
      ]
     },
     "execution_count": 40,
     "metadata": {},
     "output_type": "execute_result"
    }
   ],
   "source": [
    "from sklearn.model_selection import train_test_split\n",
    "from sklearn.svm import SVC\n",
    "from sklearn.metrics import accuracy_score, classification_report\n",
    "\n",
    "# Assuming you have X and y as your features and target variable\n",
    "# X = data.drop('PerformanceRating', axis=1)\n",
    "# y = data['PerformanceRating']\n",
    "\n",
    "# Split the data into training and testing sets\n",
    "x_train, x_test, y_train, y_test = train_test_split(x, y, test_size=0.2, random_state=42)\n",
    "\n",
    "# Create an SVM classifier\n",
    "svm_classifier = SVC(kernel='linear', C=1.0)\n",
    "\n",
    "# Train the SVM classifier on the training data\n",
    "svm_classifier.fit(x_train, y_train)\n",
    "\n",
    "# Make predictions on the test data\n",
    "svm_y_pred = svm_classifier.predict(x_test)\n",
    "svm_y_p = svm_classifier.predict(x_train)\n",
    "# Calculate evaluation metrics\n",
    "accuracy_svm_test = accuracy_score(y_test, svm_y_pred)\n",
    "\n",
    "accuracy_svm_test"
   ]
  },
  {
   "cell_type": "code",
   "execution_count": 41,
   "id": "321e77a7",
   "metadata": {},
   "outputs": [
    {
     "data": {
      "text/plain": [
       "0.8416666666666667"
      ]
     },
     "execution_count": 41,
     "metadata": {},
     "output_type": "execute_result"
    }
   ],
   "source": [
    "accuracy_svm_train = accuracy_score(y_train, svm_y_p)\n",
    "\n",
    "accuracy_svm_train"
   ]
  },
  {
   "cell_type": "code",
   "execution_count": 42,
   "id": "342372fb",
   "metadata": {},
   "outputs": [
    {
     "name": "stdout",
     "output_type": "stream",
     "text": [
      "              precision    recall  f1-score   support\n",
      "\n",
      "           2       0.70      0.57      0.63       165\n",
      "           3       0.87      0.92      0.90       690\n",
      "           4       0.80      0.74      0.77       105\n",
      "\n",
      "    accuracy                           0.84       960\n",
      "   macro avg       0.79      0.74      0.76       960\n",
      "weighted avg       0.84      0.84      0.84       960\n",
      "\n"
     ]
    }
   ],
   "source": [
    "# Calculate evaluation metrics\n",
    "print(classification_report(y_train,svm_y_p))"
   ]
  },
  {
   "cell_type": "code",
   "execution_count": 43,
   "id": "016bbc17",
   "metadata": {},
   "outputs": [
    {
     "name": "stdout",
     "output_type": "stream",
     "text": [
      "              precision    recall  f1-score   support\n",
      "\n",
      "           2       0.56      0.52      0.54        29\n",
      "           3       0.88      0.92      0.90       184\n",
      "           4       0.90      0.67      0.77        27\n",
      "\n",
      "    accuracy                           0.85       240\n",
      "   macro avg       0.78      0.70      0.73       240\n",
      "weighted avg       0.84      0.85      0.84       240\n",
      "\n"
     ]
    }
   ],
   "source": [
    "\n",
    "# Calculate evaluation metrics\n",
    "print(classification_report(y_test,svm_y_pred))"
   ]
  },
  {
   "cell_type": "code",
   "execution_count": 44,
   "id": "f31a27b5",
   "metadata": {},
   "outputs": [],
   "source": [
    "from sklearn.model_selection import cross_val_score\n",
    "\n",
    "# Replace these placeholders with your actual model objects\n",
    "model_rf = RandomForestClassifier()\n",
    "\n",
    "model_gb =  GradientBoostingClassifier()  # Your Gradient Boosting model\n",
    "model_adaboost =  AdaBoostClassifier()  # Your AdaBoost model\n",
    "model_svc = SVC(kernel='linear', C=1.0)# Your Support Vector Machine model\n",
    "model_lr =LogisticRegression(multi_class='ovr')  # Your Linear Regression model\n",
    "model_knn = KNeighborsClassifier(n_neighbors=3) # Your K-Nearest Neighbors model\n",
    "\n",
    "# Calculate accuracy for each model using cross-validation\n",
    "accuracy_rf = cross_val_score(model_rf, x, y, cv=5, scoring='accuracy').mean()\n",
    "\n",
    "accuracy_gb = cross_val_score(model_gb, x, y, cv=5, scoring='accuracy').mean()\n",
    "accuracy_adaboost = cross_val_score(model_adaboost, x, y, cv=5, scoring='accuracy').mean()\n",
    "accuracy_svc = cross_val_score(model_svc, x, y, cv=5, scoring='accuracy').mean()\n",
    "accuracy_lr = cross_val_score(model_lr, x, y, cv=5, scoring='accuracy').mean()\n",
    "accuracy_knn = cross_val_score(model_knn, x, y, cv=5, scoring='accuracy').mean()"
   ]
  },
  {
   "cell_type": "code",
   "execution_count": 45,
   "id": "bbd687d4",
   "metadata": {},
   "outputs": [
    {
     "data": {
      "text/plain": [
       "{'Modelling Algo': [' AdaBoostClassifier',\n",
       "  'RandomForestClassifier',\n",
       "  'LogisticRegression',\n",
       "  'GradientBoostingClassifier',\n",
       "  'KNeighborsClassifier',\n",
       "  'SVC '],\n",
       " 'accuracy_score': [0.8541666666666666,\n",
       "  0.925,\n",
       "  0.7125,\n",
       "  0.9041666666666667,\n",
       "  0.48333333333333334,\n",
       "  0.7125]}"
      ]
     },
     "execution_count": 45,
     "metadata": {},
     "output_type": "execute_result"
    }
   ],
   "source": [
    "from sklearn.neighbors import KNeighborsClassifier\n",
    "from imblearn.over_sampling import SMOTE\n",
    "from sklearn.metrics import accuracy_score\n",
    "\n",
    "# Define the models\n",
    "models = [\n",
    "    AdaBoostClassifier(),\n",
    "    RandomForestClassifier(),\n",
    "    LogisticRegression(),\n",
    "    GradientBoostingClassifier(),\n",
    "    KNeighborsClassifier(n_neighbors=5),\n",
    "    SVC(kernel='linear', C=1.0),\n",
    "]\n",
    "\n",
    "model_names = [\n",
    "    ' AdaBoostClassifier',\n",
    "    'RandomForestClassifier',\n",
    "    'LogisticRegression',\n",
    "    'GradientBoostingClassifier',\n",
    "    'KNeighborsClassifier',\n",
    "    'SVC ',\n",
    "]\n",
    "\n",
    "# Create SMOTE object\n",
    "smote = SMOTE(random_state=42)\n",
    "\n",
    "acc = []\n",
    "d = {}\n",
    "\n",
    "for model in range(len(models)):\n",
    "    clf = models[model]\n",
    "    \n",
    "    # Apply SMOTE to the training data\n",
    "    x_train_resampled, y_train_resampled = smote.fit_resample(x_train, y_train)\n",
    "    \n",
    "    clf.fit(x_train_resampled, y_train_resampled)\n",
    "    test_pred = clf.predict(x_test)\n",
    "    acc.append(accuracy_score(test_pred, y_test))\n",
    "\n",
    "d = {'Modelling Algo': model_names, 'accuracy_score': acc}\n",
    "d"
   ]
  },
  {
   "cell_type": "code",
   "execution_count": 46,
   "id": "f78bf66f",
   "metadata": {},
   "outputs": [
    {
     "data": {
      "text/html": [
       "<div>\n",
       "<style scoped>\n",
       "    .dataframe tbody tr th:only-of-type {\n",
       "        vertical-align: middle;\n",
       "    }\n",
       "\n",
       "    .dataframe tbody tr th {\n",
       "        vertical-align: top;\n",
       "    }\n",
       "\n",
       "    .dataframe thead th {\n",
       "        text-align: right;\n",
       "    }\n",
       "</style>\n",
       "<table border=\"1\" class=\"dataframe\">\n",
       "  <thead>\n",
       "    <tr style=\"text-align: right;\">\n",
       "      <th></th>\n",
       "      <th>Modelling Algo</th>\n",
       "      <th>accuracy_score</th>\n",
       "    </tr>\n",
       "  </thead>\n",
       "  <tbody>\n",
       "    <tr>\n",
       "      <th>0</th>\n",
       "      <td>AdaBoostClassifier</td>\n",
       "      <td>0.854167</td>\n",
       "    </tr>\n",
       "    <tr>\n",
       "      <th>1</th>\n",
       "      <td>RandomForestClassifier</td>\n",
       "      <td>0.925000</td>\n",
       "    </tr>\n",
       "    <tr>\n",
       "      <th>2</th>\n",
       "      <td>LogisticRegression</td>\n",
       "      <td>0.712500</td>\n",
       "    </tr>\n",
       "    <tr>\n",
       "      <th>3</th>\n",
       "      <td>GradientBoostingClassifier</td>\n",
       "      <td>0.904167</td>\n",
       "    </tr>\n",
       "    <tr>\n",
       "      <th>4</th>\n",
       "      <td>KNeighborsClassifier</td>\n",
       "      <td>0.483333</td>\n",
       "    </tr>\n",
       "    <tr>\n",
       "      <th>5</th>\n",
       "      <td>SVC</td>\n",
       "      <td>0.712500</td>\n",
       "    </tr>\n",
       "  </tbody>\n",
       "</table>\n",
       "</div>"
      ],
      "text/plain": [
       "               Modelling Algo  accuracy_score\n",
       "0          AdaBoostClassifier        0.854167\n",
       "1      RandomForestClassifier        0.925000\n",
       "2          LogisticRegression        0.712500\n",
       "3  GradientBoostingClassifier        0.904167\n",
       "4        KNeighborsClassifier        0.483333\n",
       "5                        SVC         0.712500"
      ]
     },
     "execution_count": 46,
     "metadata": {},
     "output_type": "execute_result"
    }
   ],
   "source": [
    "accuracy_dataframe = pd.DataFrame(d)\n",
    "accuracy_dataframe"
   ]
  },
  {
   "cell_type": "code",
   "execution_count": 48,
   "id": "ba388788",
   "metadata": {},
   "outputs": [
    {
     "data": {
      "image/png": "[encoded data removed]",
      "text/plain": [
       "<Figure size 1000x600 with 1 Axes>"
      ]
     },
     "metadata": {},
     "output_type": "display_data"
    }
   ],
   "source": [
    "dt_algo={'AB':85.41,'RF':92.50,'LR':71.25,'GBC':90.41, 'KNN':48.33,  'SVC':71.25,  }\n",
    "algo=list(dt_algo.keys())\n",
    "score=list(dt_algo.values())\n",
    "\n",
    "plt.figure(figsize=(10,6))\n",
    "bars=plt.bar(algo,score)\n",
    "\n",
    "# Add numerical values to the bars\n",
    "for bar in bars:\n",
    "    height = bar.get_height()\n",
    "    plt.annotate(f'{height:.2f}', xy=(bar.get_x() + bar.get_width() / 2, height), xytext=(0, 3),\n",
    "                 textcoords='offset points', ha='center', va='bottom')\n",
    "    \n",
    "plt.xlabel('Algorithms')\n",
    "plt.ylabel('Accuracy score in %')\n",
    "plt.show()"
   ]
  },
  {
   "cell_type": "code",
   "execution_count": null,
   "id": "9c5746b0",
   "metadata": {},
   "outputs": [],
   "source": []
  },
  {
   "cell_type": "markdown",
   "id": "ed6de31c",
   "metadata": {},
   "source": [
    "## The created Trained model using the machine learning algorithm as follows with the accuracy score,\n",
    "* AdaBoostClassifier = 85.41\n",
    "* RandomForestClassifier=92.50\n",
    "* LogisticRegression=71.25\n",
    "* GradientBoostingClassifier=90.47\n",
    "* KNeighborsClassifier=48.33\n",
    "* SVC=71.25"
   ]
  },
  {
   "cell_type": "code",
   "execution_count": null,
   "id": "54f37bd9",
   "metadata": {},
   "outputs": [],
   "source": []
  },
  {
   "cell_type": "code",
   "execution_count": null,
   "id": "80ca7086",
   "metadata": {},
   "outputs": [],
   "source": []
  }
 ],
 "metadata": {
  "kernelspec": {
   "display_name": "Python 3 (ipykernel)",
   "language": "python",
   "name": "python3"
  },
  "language_info": {
   "codemirror_mode": {
    "name": "ipython",
    "version": 3
   },
   "file_extension": ".py",
   "mimetype": "text/x-python",
   "name": "python",
   "nbconvert_exporter": "python",
   "pygments_lexer": "ipython3",
   "version": "3.11.3"
  }
 },
 "nbformat": 4,
 "nbformat_minor": 5
}
